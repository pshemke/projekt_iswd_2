{
 "cells": [
  {
   "cell_type": "code",
   "execution_count": 7,
   "metadata": {},
   "outputs": [],
   "source": [
    "import pandas as pd\n",
    "import numpy as np"
   ]
  },
  {
   "cell_type": "code",
   "execution_count": 8,
   "metadata": {},
   "outputs": [],
   "source": [
    "class MobilePhone:\n",
    "    #konstruktor\n",
    "    def __init__(self, model, price, antutu_score, dxomark, ppi, battery_capacity):\n",
    "        self.model = model\n",
    "        self.price = price\n",
    "        self.antutu_score = antutu_score\n",
    "        self.dxomark = dxomark\n",
    "        self.ppi = ppi\n",
    "        self.battery_capacity = battery_capacity\n",
    "    \n",
    "    #printowanie telefonu\n",
    "    def __str__(self):\n",
    "        return f\"Model: {self.model}, Price ($): {self.price}, Antutu Score: {self.antutu_score}, DXOMARK: {self.dxomark}, PPI: {self.ppi}, Battery Capacity (mAh): {self.battery_capacity}\""
   ]
  },
  {
   "cell_type": "code",
   "execution_count": 9,
   "metadata": {},
   "outputs": [],
   "source": [
    "#wczytaj smartfony i utwórz liste z objektami klasy MobilePhone\n",
    "data = pd.read_csv(\"smartfony.csv\")\n",
    "phones = []\n",
    "for index, row in data.iterrows():\n",
    "    phone = MobilePhone(row['Model'], row['Cena ($)'], row['Antutu Score'], row['DXOMARK'], row['ppi'], row['pojemność baterii (mAh)'])\n",
    "    phones.append(phone)\n"
   ]
  },
  {
   "cell_type": "code",
   "execution_count": 10,
   "metadata": {},
   "outputs": [
    {
     "name": "stdout",
     "output_type": "stream",
     "text": [
      "Model: Huawei Mate 40 Pro, Price ($): 907, Antutu Score: 637 017, DXOMARK: 143, PPI: 450, Battery Capacity (mAh): 4 360\n",
      "Model: Google Pixel 7 Pro, Price ($): 899, Antutu Score: 788 707, DXOMARK: 147, PPI: 512, Battery Capacity (mAh): 5 000\n",
      "Model: Honor Magic4 Ultimate, Price ($): 1 211, Antutu Score: 1 051 488, DXOMARK: 147, PPI: 460, Battery Capacity (mAh): 4 600\n",
      "Model: Apple iPhone 14 Pro Max, Price ($): 1 299, Antutu Score: 960 137, DXOMARK: 146, PPI: 460, Battery Capacity (mAh): 4 323\n",
      "Model: Xiaomi 12S Ultra, Price ($): 908, Antutu Score: 1 061 590, DXOMARK: 136, PPI: 522, Battery Capacity (mAh): 4 860\n",
      "Model: Samsung Galaxy S22 Ultra, Price ($): 1 199, Antutu Score: 907 693, DXOMARK: 135, PPI: 500, Battery Capacity (mAh): 5 000\n",
      "Model: ROG Phone 6 PRO, Price ($): 999, Antutu Score: 1 116 637, DXOMARK: 81, PPI: 395, Battery Capacity (mAh): 6 000\n",
      "Model: Motorola Edge 30 Pro, Price ($): 699, Antutu Score: 979 697, DXOMARK: 101, PPI: 393, Battery Capacity (mAh): 4 800\n",
      "Model: Galaxy Z Fold4, Price ($): 1 799, Antutu Score: 986 751, DXOMARK: 124, PPI: 373, Battery Capacity (mAh): 4 400\n",
      "Model: Vivo X80 Pro, Price ($): 1 299, Antutu Score: 1 005 160, DXOMARK: 134, PPI: 517, Battery Capacity (mAh): 4 700\n",
      "Model: Oppo Find X5 Pro, Price ($): 1 299, Antutu Score: 866 419, DXOMARK: 130, PPI: 525, Battery Capacity (mAh): 5 000\n",
      "Model: OnePlus 10 Pro, Price ($): 899, Antutu Score: 865 589, DXOMARK: 122, PPI: 525, Battery Capacity (mAh): 5 000\n",
      "Model: Nothing Phone 1, Price ($): 469, Antutu Score: 580 763, DXOMARK: 91, PPI: 402, Battery Capacity (mAh): 4 500\n",
      "Model: Nokia X30, Price ($): 540, Antutu Score: 403 732, DXOMARK: 131, PPI: 409, Battery Capacity (mAh): 4 200\n",
      "Model: Red Magic 7 Pro, Price ($): 799, Antutu Score: 1 055 626, DXOMARK: 85, PPI: 387, Battery Capacity (mAh): 5 000\n",
      "Model: Poco F4 GT, Price ($): 599, Antutu Score: 973 605, DXOMARK: 107, PPI: 395, Battery Capacity (mAh): 4 700\n",
      "Model: Redmi K50 Gaming, Price ($): 499, Antutu Score: 959 727, DXOMARK: 82, PPI: 395, Battery Capacity (mAh): 4 700\n",
      "Model: realme GT2 Pro, Price ($): 749, Antutu Score: 956 516, DXOMARK: 106, PPI: 526, Battery Capacity (mAh): 5 000\n",
      "Model: iQOO 9 Pro, Price ($): 757, Antutu Score: 858 575, DXOMARK: 127, PPI: 518, Battery Capacity (mAh): 4 700\n",
      "Model: ZTE Axon 40 Ultra, Price ($): 769, Antutu Score: 713 447, DXOMARK: 126, PPI: 400, Battery Capacity (mAh): 5 000\n"
     ]
    }
   ],
   "source": [
    "#wyswietl telefony\n",
    "for phone in phones:\n",
    "    print(phone)"
   ]
  },
  {
   "cell_type": "code",
   "execution_count": null,
   "metadata": {},
   "outputs": [],
   "source": []
  }
 ],
 "metadata": {
  "kernelspec": {
   "display_name": "Python 3",
   "language": "python",
   "name": "python3"
  },
  "language_info": {
   "codemirror_mode": {
    "name": "ipython",
    "version": 3
   },
   "file_extension": ".py",
   "mimetype": "text/x-python",
   "name": "python",
   "nbconvert_exporter": "python",
   "pygments_lexer": "ipython3",
   "version": "3.11.3"
  }
 },
 "nbformat": 4,
 "nbformat_minor": 2
}
